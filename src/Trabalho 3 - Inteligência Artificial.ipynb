{
 "cells": [
  {
   "cell_type": "code",
   "execution_count": 2,
   "metadata": {},
   "outputs": [],
   "source": [
    "import numpy as np\n",
    "import cv2\n",
    "import glob\n",
    "import matplotlib.pyplot as plt\n",
    "%matplotlib inline"
   ]
  },
  {
   "cell_type": "markdown",
   "metadata": {},
   "source": [
    "para carregar as imagens iremos utilizar uma biblioteca para fazer isso,\n",
    "pois como uma imagem é compactada, se abrirmos a imagem de forma binaria, os bytes(matriz) nao estaria organizada de forma que precisamos\n",
    "\n",
    "no nosso exemplo = 64 * 64 * 3 = 4096 * 3 = 12288\n",
    "\n",
    "12288 * 1byte (0-255 - equivale a 1byte)"
   ]
  },
  {
   "cell_type": "code",
   "execution_count": 3,
   "metadata": {},
   "outputs": [],
   "source": [
    "gatos = '../inputs/data/train/cat/*.png'\n",
    "nao_gatos = '../inputs/data/train/noncat/*.png'"
   ]
  },
  {
   "cell_type": "code",
   "execution_count": 4,
   "metadata": {},
   "outputs": [],
   "source": [
    "# img = cv2.imread('/Users/mustafa/test.jpg')\n",
    "# gray = cv2.cvtColor(img, cv2.COLOR_BGR2GRAY)\n",
    "\n",
    "# plt.imshow(gray)\n",
    "# plt.title('my picture')\n",
    "# plt.show()"
   ]
  },
  {
   "cell_type": "code",
   "execution_count": 12,
   "metadata": {},
   "outputs": [],
   "source": [
    "img = cv2.imread(glob.glob(gatos)[0])"
   ]
  },
  {
   "cell_type": "code",
   "execution_count": 16,
   "metadata": {},
   "outputs": [
    {
     "data": {
      "text/plain": [
       "(64, 64, 3)"
      ]
     },
     "execution_count": 16,
     "metadata": {},
     "output_type": "execute_result"
    }
   ],
   "source": [
    "img.shape"
   ]
  },
  {
   "cell_type": "code",
   "execution_count": 33,
   "metadata": {},
   "outputs": [
    {
     "data": {
      "text/plain": [
       "array([[[ 5,  8,  3],\n",
       "        [ 4,  8,  3],\n",
       "        [ 6, 10,  5],\n",
       "        ...,\n",
       "        [ 4, 25, 58],\n",
       "        [ 4, 22, 51],\n",
       "        [ 3, 22, 53]],\n",
       "\n",
       "       [[ 4,  7,  3],\n",
       "        [ 4,  8,  4],\n",
       "        [ 6, 10,  6],\n",
       "        ...,\n",
       "        [ 4, 24, 59],\n",
       "        [ 3, 22, 53],\n",
       "        [ 4, 22, 53]],\n",
       "\n",
       "       [[ 4,  7,  3],\n",
       "        [ 5,  9,  5],\n",
       "        [ 7, 10,  6],\n",
       "        ...,\n",
       "        [ 3, 24, 58],\n",
       "        [ 3, 22, 54],\n",
       "        [ 4, 22, 55]],\n",
       "\n",
       "       ...,\n",
       "\n",
       "       [[ 7,  5,  4],\n",
       "        [ 6,  5,  4],\n",
       "        [ 6,  4,  3],\n",
       "        ...,\n",
       "        [47, 48, 53],\n",
       "        [46, 46, 51],\n",
       "        [44, 45, 47]],\n",
       "\n",
       "       [[ 7,  5,  4],\n",
       "        [ 7,  5,  4],\n",
       "        [ 6,  4,  3],\n",
       "        ...,\n",
       "        [42, 43, 46],\n",
       "        [43, 44, 47],\n",
       "        [42, 43, 47]],\n",
       "\n",
       "       [[ 6,  4,  3],\n",
       "        [ 6,  4,  3],\n",
       "        [ 6,  4,  3],\n",
       "        ...,\n",
       "        [38, 40, 44],\n",
       "        [39, 39, 44],\n",
       "        [39, 42, 44]]], dtype=uint8)"
      ]
     },
     "execution_count": 33,
     "metadata": {},
     "output_type": "execute_result"
    }
   ],
   "source": [
    "img #somente uma imagem\n",
    "#r = 5\n",
    "#g = 8\n",
    "#b = 3"
   ]
  },
  {
   "cell_type": "code",
   "execution_count": 13,
   "metadata": {},
   "outputs": [
    {
     "data": {
      "text/plain": [
       "<matplotlib.image.AxesImage at 0x7f3dc90f72b0>"
      ]
     },
     "execution_count": 13,
     "metadata": {},
     "output_type": "execute_result"
    },
    {
     "data": {
      "image/png": "[encoded data removed]",
      "text/plain": [
       "<Figure size 432x288 with 1 Axes>"
      ]
     },
     "metadata": {
      "needs_background": "light"
     },
     "output_type": "display_data"
    }
   ],
   "source": [
    "plt.imshow(img)"
   ]
  },
  {
   "cell_type": "markdown",
   "metadata": {},
   "source": [
    "se eu passar -1 no reshape ele ja pega o tamanho 64 * 64 * 3, ele entende a dimensao\n",
    "\n",
    "$\\theta_0$ é sempre 1"
   ]
  },
  {
   "cell_type": "code",
   "execution_count": 50,
   "metadata": {},
   "outputs": [],
   "source": [
    "X = []\n",
    "Y = []\n",
    "\n",
    "for gato in glob.glob(gatos):\n",
    "    imagem = cv2.imread(gato) #cv2.imread() retorna a matriz do formato que queremos\n",
    "    imagem = imagem.reshape(64*64*3) #se eu passar (1,(64*64*3)), ele ira assumir uma tripla\n",
    "    X.append(imagem)\n",
    "    Y.append(1) #adiciona uma imagem e um \"1\" relacionado a esse gato, 1 quando é gato e 0 quando nao e gato\n",
    "    \n",
    "for nao_gato in glob.glob(nao_gatos):\n",
    "    imagem = cv2.imread(nao_gato) #cv2.imread() retorna a matriz do formato que queremos\n",
    "    imagem = imagem.reshape(-1) #se eu passar (1,(64*64*3)), ele ira assumir uma tripla\n",
    "    X.append(imagem)\n",
    "    Y.append(0) #adiciona uma imagem e um \"0\" relacionado a esse NAO gato"
   ]
  },
  {
   "cell_type": "code",
   "execution_count": 51,
   "metadata": {},
   "outputs": [],
   "source": [
    "X = np.array(X)"
   ]
  },
  {
   "cell_type": "code",
   "execution_count": 52,
   "metadata": {},
   "outputs": [
    {
     "data": {
      "text/plain": [
       "array([[  5,   8,   3, ...,  39,  42,  44],\n",
       "       [ 11,  16,  23, ...,  32,  41,  54],\n",
       "       [ 65, 104, 122, ..., 128, 124, 146],\n",
       "       ...,\n",
       "       [ 58,  82,  62, ...,  82,  91,  54],\n",
       "       [207, 187, 166, ..., 202, 184, 162],\n",
       "       [105, 129, 135, ..., 117, 132, 153]], dtype=uint8)"
      ]
     },
     "execution_count": 52,
     "metadata": {},
     "output_type": "execute_result"
    }
   ],
   "source": [
    "#OS Primeios 4096 sao os vermelhos e asism em seguida\n",
    "X"
   ]
  },
  {
   "cell_type": "markdown",
   "metadata": {},
   "source": [
    "m é a qtd de linhas, e 12288 sera a qtd de colunas, q é x1,x2,...,xn"
   ]
  },
  {
   "cell_type": "code",
   "execution_count": 53,
   "metadata": {},
   "outputs": [
    {
     "data": {
      "text/plain": [
       "(209, 12288)"
      ]
     },
     "execution_count": 53,
     "metadata": {},
     "output_type": "execute_result"
    }
   ],
   "source": [
    "X.shape"
   ]
  },
  {
   "cell_type": "code",
   "execution_count": 54,
   "metadata": {},
   "outputs": [
    {
     "data": {
      "text/plain": [
       "(209,)"
      ]
     },
     "execution_count": 54,
     "metadata": {},
     "output_type": "execute_result"
    }
   ],
   "source": [
    "Y = np.array(Y)\n",
    "Y.shape"
   ]
  },
  {
   "cell_type": "code",
   "execution_count": 55,
   "metadata": {},
   "outputs": [],
   "source": [
    "Y = np.expand_dims(Y, axis=1)"
   ]
  },
  {
   "cell_type": "code",
   "execution_count": 56,
   "metadata": {},
   "outputs": [
    {
     "data": {
      "text/plain": [
       "(209, 1)"
      ]
     },
     "execution_count": 56,
     "metadata": {},
     "output_type": "execute_result"
    }
   ],
   "source": [
    "Y.shape"
   ]
  },
  {
   "cell_type": "code",
   "execution_count": 57,
   "metadata": {},
   "outputs": [],
   "source": [
    "X = np.insert(X, 0, 1, axis=1)"
   ]
  },
  {
   "cell_type": "code",
   "execution_count": 58,
   "metadata": {},
   "outputs": [
    {
     "data": {
      "text/plain": [
       "(209, 12289)"
      ]
     },
     "execution_count": 58,
     "metadata": {},
     "output_type": "execute_result"
    }
   ],
   "source": [
    "X.shape"
   ]
  },
  {
   "cell_type": "code",
   "execution_count": 59,
   "metadata": {},
   "outputs": [
    {
     "data": {
      "text/plain": [
       "array([[  1,   5,   8, ...,  39,  42,  44],\n",
       "       [  1,  11,  16, ...,  32,  41,  54],\n",
       "       [  1,  65, 104, ..., 128, 124, 146],\n",
       "       ...,\n",
       "       [  1,  58,  82, ...,  82,  91,  54],\n",
       "       [  1, 207, 187, ..., 202, 184, 162],\n",
       "       [  1, 105, 129, ..., 117, 132, 153]], dtype=uint8)"
      ]
     },
     "execution_count": 59,
     "metadata": {},
     "output_type": "execute_result"
    }
   ],
   "source": [
    "X"
   ]
  },
  {
   "cell_type": "code",
   "execution_count": 82,
   "metadata": {},
   "outputs": [
    {
     "data": {
      "text/plain": [
       "array([39, 42], dtype=uint8)"
      ]
     },
     "execution_count": 82,
     "metadata": {},
     "output_type": "execute_result"
    }
   ],
   "source": [
    "X[0][-3:-1]"
   ]
  },
  {
   "cell_type": "code",
   "execution_count": null,
   "metadata": {},
   "outputs": [],
   "source": []
  }
 ],
 "metadata": {
  "kernelspec": {
   "display_name": "Python 3",
   "language": "python",
   "name": "python3"
  },
  "language_info": {
   "codemirror_mode": {
    "name": "ipython",
    "version": 3
   },
   "file_extension": ".py",
   "mimetype": "text/x-python",
   "name": "python",
   "nbconvert_exporter": "python",
   "pygments_lexer": "ipython3",
   "version": "3.6.8"
  }
 },
 "nbformat": 4,
 "nbformat_minor": 4
}
