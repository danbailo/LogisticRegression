{
 "cells": [
  {
   "cell_type": "code",
   "execution_count": 144,
   "metadata": {},
   "outputs": [],
   "source": [
    "import numpy as np\n",
    "import matplotlib.pyplot as plt\n",
    "from PIL import Image\n",
    "import glob\n",
    "%matplotlib inline\n",
    "plt.rcParams['figure.figsize'] = (10, 7) #(width,height)\n",
    "plt.rcParams['axes.grid'] = True\n",
    "plt.rcParams['text.usetex'] = True"
   ]
  },
  {
   "cell_type": "code",
   "execution_count": 145,
   "metadata": {},
   "outputs": [],
   "source": [
    "import glob\n",
    "from PIL import Image\n",
    "from PIL import ImageFont\n",
    "from PIL import ImageDraw \n",
    "\n",
    "\n",
    "def salva_imagem_com_predicao(imagem, img_filename, predicao):\n",
    "  img = Image.fromarray(imagem[:,:,:])\n",
    "\n",
    "  draw = ImageDraw.Draw(img)\n",
    "  font = ImageFont.truetype(\"FreeMono.ttf\", 11)\n",
    "  fillcolor = \"black\"\n",
    "  shadowcolor = \"white\"\n",
    "  x, y = 1, 1\n",
    "\n",
    "  text = \"{:.3f}\".format(predicao)\n",
    "\n",
    "  # thin border\n",
    "  draw.text((x-1, y), text, font=font, fill=shadowcolor)\n",
    "  draw.text((x+1, y), text, font=font, fill=shadowcolor)\n",
    "  draw.text((x, y-1), text, font=font, fill=shadowcolor)\n",
    "  draw.text((x, y+1), text, font=font, fill=shadowcolor)\n",
    "\n",
    "  # thicker border\n",
    "  draw.text((x-1, y-1), text, font=font, fill=shadowcolor)\n",
    "  draw.text((x+1, y-1), text, font=font, fill=shadowcolor)\n",
    "  draw.text((x-1, y+1), text, font=font, fill=shadowcolor)\n",
    "  draw.text((x+1, y+1), text, font=font, fill=shadowcolor)\n",
    "\n",
    "  draw.text((x, y), text, font=font, fill=fillcolor)\n",
    "\n",
    "  img.save(img_filename)"
   ]
  },
  {
   "cell_type": "code",
   "execution_count": 146,
   "metadata": {},
   "outputs": [],
   "source": [
    "def logistic_regression(NUM_IT, alpha, m, X, Y, theta):\n",
    "    J = np.zeros(NUM_IT)\n",
    "    acc = np.zeros(NUM_IT)    \n",
    "    for i in range(NUM_IT):\n",
    "        z = np.dot(X,theta)\n",
    "        H_theta = np.divide(1,1+np.exp(-z))\n",
    "        E = H_theta - Y\n",
    "        J[i] = (1/m)*np.sum(-Y*np.log(H_theta) - (1-Y)*(np.log(1-H_theta)))\n",
    "        theta = theta - (alpha*(np.dot(X.T,E))) \n",
    "        acc[i] = np.sum((H_theta >= 0.5) == Y)/m\n",
    "    return J, H_theta, acc"
   ]
  },
  {
   "cell_type": "code",
   "execution_count": 147,
   "metadata": {},
   "outputs": [],
   "source": [
    "dir_cat = '../inputs/data/train/cat/*.png'\n",
    "dir_noncat = '../inputs/data/train/noncat/*.png'"
   ]
  },
  {
   "cell_type": "markdown",
   "metadata": {},
   "source": [
    "Temos que a regressão logística serve para classificar uma determinada classe, logo, para cada gato adicionado nos dados de treino, vamos adicionar um valor 1 aos dados de teste, pois isso significa que é um gato(true), e para cada não-gato adicionado aos dados de treino, vamos adicionar um 0 nos dados de teste, pois significa que não é um gato."
   ]
  },
  {
   "cell_type": "markdown",
   "metadata": {},
   "source": [
    "**Dúvidas**\n",
    "\n",
    "* Na regressão logística, temos sempre que os dados de treino conterão uma classe que queremos classificar, comparando com outros elementos que não fazem parte dessa classe e nos dados de teste, teremos 1 para os elementos que pertencem a classe e 0 para os que não pertencem?\n",
    "\n",
    "* Ou simplesmente, 1 para quem qremos predizer e 0 para testar o modelo\n",
    "\n",
    "* X = X/255 (Fica entre 0 e 1)?\n",
    "\n",
    "* A quantidade de $\\theta's$ é relacionada a qtd de colunas do X certo? Se sim, as linhas são o que?"
   ]
  },
  {
   "cell_type": "markdown",
   "metadata": {},
   "source": [
    "**Normalização**\n",
    "\n",
    "https://stats.stackexchange.com/questions/189652/is-it-a-good-practice-to-always-scale-normalize-data-for-machine-learning\n",
    "\n",
    "https://medium.com/konvergen/an-introduction-to-adagrad-f130ae871827"
   ]
  },
  {
   "cell_type": "code",
   "execution_count": 171,
   "metadata": {},
   "outputs": [],
   "source": [
    "X = [] #dados de treino\n",
    "Y = [] #dados de teste\n",
    "for cat in glob.glob(dir_cat):\n",
    "    img = np.asarray(Image.open(cat))\n",
    "    img = np.reshape(img, -1)\n",
    "    X.append(img)\n",
    "    Y.append(1)\n",
    "    \n",
    "#-1 multiplica pelo grid(x1,x2,x3) da imagem, \"desempacota\" e multiplica - 64x64x3 = 12288\n",
    "for noncat in glob.glob(dir_noncat):\n",
    "    img = np.asarray(Image.open(noncat))\n",
    "    img = np.reshape(img, -1)\n",
    "    X.append(img)\n",
    "    Y.append(0) "
   ]
  },
  {
   "cell_type": "code",
   "execution_count": 149,
   "metadata": {},
   "outputs": [],
   "source": [
    "X = np.asarray(X)\n",
    "Y = np.asarray(Y)"
   ]
  },
  {
   "cell_type": "markdown",
   "metadata": {},
   "source": [
    "Normalizando os dados"
   ]
  },
  {
   "cell_type": "code",
   "execution_count": 150,
   "metadata": {},
   "outputs": [],
   "source": [
    "X = X/255"
   ]
  },
  {
   "cell_type": "code",
   "execution_count": 151,
   "metadata": {},
   "outputs": [
    {
     "data": {
      "text/plain": [
       "(209, 12288)"
      ]
     },
     "execution_count": 151,
     "metadata": {},
     "output_type": "execute_result"
    }
   ],
   "source": [
    "X.shape"
   ]
  },
  {
   "cell_type": "code",
   "execution_count": 152,
   "metadata": {},
   "outputs": [],
   "source": [
    "X = np.insert(X, obj=0, values=1, axis=1)"
   ]
  },
  {
   "cell_type": "code",
   "execution_count": 153,
   "metadata": {},
   "outputs": [],
   "source": [
    "Y = np.expand_dims(Y, axis=1)"
   ]
  },
  {
   "cell_type": "code",
   "execution_count": 154,
   "metadata": {},
   "outputs": [
    {
     "data": {
      "text/plain": [
       "(209, 12289)"
      ]
     },
     "execution_count": 154,
     "metadata": {},
     "output_type": "execute_result"
    }
   ],
   "source": [
    "X.shape"
   ]
  },
  {
   "cell_type": "code",
   "execution_count": 155,
   "metadata": {},
   "outputs": [
    {
     "data": {
      "text/plain": [
       "(209, 1)"
      ]
     },
     "execution_count": 155,
     "metadata": {},
     "output_type": "execute_result"
    }
   ],
   "source": [
    "Y.shape"
   ]
  },
  {
   "cell_type": "code",
   "execution_count": 156,
   "metadata": {},
   "outputs": [],
   "source": [
    "theta = np.zeros((X.shape[1],1))"
   ]
  },
  {
   "cell_type": "code",
   "execution_count": 157,
   "metadata": {},
   "outputs": [
    {
     "data": {
      "text/plain": [
       "(12289, 1)"
      ]
     },
     "execution_count": 157,
     "metadata": {},
     "output_type": "execute_result"
    }
   ],
   "source": [
    "theta.shape"
   ]
  },
  {
   "cell_type": "markdown",
   "metadata": {},
   "source": [
    "Se obter erros ou warnings, se atente a este e diminua o valor do alpha!"
   ]
  },
  {
   "cell_type": "code",
   "execution_count": 158,
   "metadata": {},
   "outputs": [],
   "source": [
    "J, H_theta, acc = logistic_regression(1000, 0.0001, X.shape[0], X, Y, theta)"
   ]
  },
  {
   "cell_type": "code",
   "execution_count": 159,
   "metadata": {},
   "outputs": [
    {
     "data": {
      "text/plain": [
       "Text(0, 0.5, 'J($\\\\theta$)')"
      ]
     },
     "execution_count": 159,
     "metadata": {},
     "output_type": "execute_result"
    },
    {
     "data": {
      "image/png": "[encoded data removed]",
      "text/plain": [
       "<Figure size 720x504 with 1 Axes>"
      ]
     },
     "metadata": {
      "needs_background": "light"
     },
     "output_type": "display_data"
    }
   ],
   "source": [
    "#Valores testados 0.0001(comportamento estranho), 0.00001, \n",
    "plt.plot(J, label=fr\"$\\alpha = {0.0001}$\")\n",
    "plt.legend(loc='center left', bbox_to_anchor=(1.0, 0.5))\n",
    "plt.xlabel('Iterações')\n",
    "plt.ylabel(r'J($\\theta$)')"
   ]
  },
  {
   "cell_type": "code",
   "execution_count": 160,
   "metadata": {},
   "outputs": [
    {
     "data": {
      "text/plain": [
       "Text(0, 0.5, 'Acurácia')"
      ]
     },
     "execution_count": 160,
     "metadata": {},
     "output_type": "execute_result"
    },
    {
     "data": {
      "image/png": "[encoded data removed]",
      "text/plain": [
       "<Figure size 720x504 with 1 Axes>"
      ]
     },
     "metadata": {
      "needs_background": "light"
     },
     "output_type": "display_data"
    }
   ],
   "source": [
    "plt.plot(acc, label=\"Acurácia\")\n",
    "plt.legend(loc='center left', bbox_to_anchor=(1.0, 0.5))\n",
    "plt.xlabel('Iterações')\n",
    "plt.ylabel('Acurácia')"
   ]
  },
  {
   "cell_type": "code",
   "execution_count": 161,
   "metadata": {},
   "outputs": [
    {
     "data": {
      "text/plain": [
       "<matplotlib.legend.Legend at 0x7f3fad590278>"
      ]
     },
     "execution_count": 161,
     "metadata": {},
     "output_type": "execute_result"
    },
    {
     "data": {
      "image/png": "[encoded data removed]",
      "text/plain": [
       "<Figure size 720x504 with 1 Axes>"
      ]
     },
     "metadata": {
      "needs_background": "light"
     },
     "output_type": "display_data"
    }
   ],
   "source": [
    "plt.plot(H_theta, label=\"\")\n",
    "plt.plot([0.5]*len(H_theta), label=\"Limiar\")\n",
    "plt.yticks(np.arange(-0,1.2,0.1))\n",
    "plt.legend(loc='center left', bbox_to_anchor=(1.0, 0.5))\n",
    "# plt.xlabel('Instâncias')\n",
    "# plt.ylabel('Resultado')"
   ]
  },
  {
   "cell_type": "code",
   "execution_count": 162,
   "metadata": {},
   "outputs": [],
   "source": [
    "X = X*255"
   ]
  },
  {
   "cell_type": "code",
   "execution_count": 163,
   "metadata": {},
   "outputs": [
    {
     "data": {
      "text/plain": [
       "(209, 12289)"
      ]
     },
     "execution_count": 163,
     "metadata": {},
     "output_type": "execute_result"
    }
   ],
   "source": [
    "X.shape"
   ]
  },
  {
   "cell_type": "code",
   "execution_count": 164,
   "metadata": {},
   "outputs": [],
   "source": [
    "X = np.delete(X,obj=0,axis=1)"
   ]
  },
  {
   "cell_type": "code",
   "execution_count": 165,
   "metadata": {},
   "outputs": [
    {
     "data": {
      "text/plain": [
       "(209, 12289)"
      ]
     },
     "execution_count": 165,
     "metadata": {},
     "output_type": "execute_result"
    }
   ],
   "source": [
    "X.shape"
   ]
  },
  {
   "cell_type": "markdown",
   "metadata": {},
   "source": [
    "Tenho 209 linhas, onde cada linha é uma figura (64x64x3)"
   ]
  },
  {
   "cell_type": "code",
   "execution_count": 166,
   "metadata": {},
   "outputs": [
    {
     "data": {
      "text/plain": [
       "12289"
      ]
     },
     "execution_count": 166,
     "metadata": {},
     "output_type": "execute_result"
    }
   ],
   "source": [
    "len(X[0])"
   ]
  },
  {
   "cell_type": "markdown",
   "metadata": {},
   "source": [
    "Cada linha do H_Theta é a predição relacionada a uma imagem do dataset"
   ]
  },
  {
   "cell_type": "code",
   "execution_count": 167,
   "metadata": {},
   "outputs": [
    {
     "data": {
      "text/plain": [
       "0.9999993720867605"
      ]
     },
     "execution_count": 167,
     "metadata": {},
     "output_type": "execute_result"
    }
   ],
   "source": [
    "H_theta[2,0]"
   ]
  },
  {
   "cell_type": "code",
   "execution_count": 168,
   "metadata": {},
   "outputs": [],
   "source": [
    "for i in range(0, len(X)):\n",
    "    temp = np.uint8(np.reshape(X[i,:], (64,64,3)))\n",
    "    salva_imagem_com_predicao(temp, f\"../results/imagem_{i}.png\", H_theta[i,0])"
   ]
  }
 ],
 "metadata": {
  "kernelspec": {
   "display_name": "Python 3",
   "language": "python",
   "name": "python3"
  },
  "language_info": {
   "codemirror_mode": {
    "name": "ipython",
    "version": 3
   },
   "file_extension": ".py",
   "mimetype": "text/x-python",
   "name": "python",
   "nbconvert_exporter": "python",
   "pygments_lexer": "ipython3",
   "version": "3.6.8"
  }
 },
 "nbformat": 4,
 "nbformat_minor": 4
}
