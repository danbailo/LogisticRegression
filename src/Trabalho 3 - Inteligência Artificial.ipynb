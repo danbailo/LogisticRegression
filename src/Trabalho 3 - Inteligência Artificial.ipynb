{
 "cells": [
  {
   "cell_type": "code",
   "execution_count": 149,
   "metadata": {},
   "outputs": [],
   "source": [
    "import numpy as np\n",
    "import matplotlib.pyplot as plt\n",
    "from PIL import Image\n",
    "from PIL import ImageFont\n",
    "from PIL import ImageDraw \n",
    "import glob\n",
    "%matplotlib inline\n",
    "plt.rcParams['figure.figsize'] = (10, 7) #(width,height)\n",
    "plt.rcParams['axes.grid'] = True\n",
    "plt.rcParams['text.usetex'] = True"
   ]
  },
  {
   "cell_type": "code",
   "execution_count": 243,
   "metadata": {},
   "outputs": [],
   "source": [
    "def salva_imagem_com_predicao(imagem, img_filename, predicao):\n",
    "  img = Image.fromarray(imagem[:,:,:])\n",
    "\n",
    "  draw = ImageDraw.Draw(img)\n",
    "  font = ImageFont.truetype(\"FreeMono.ttf\", 11)\n",
    "  fillcolor = \"black\"\n",
    "  shadowcolor = \"white\"\n",
    "  x, y = 1, 1\n",
    "\n",
    "  text = \"{:.3f}\".format(predicao)\n",
    "\n",
    "  # thin border\n",
    "  draw.text((x-1, y), text, font=font, fill=shadowcolor)\n",
    "  draw.text((x+1, y), text, font=font, fill=shadowcolor)\n",
    "  draw.text((x, y-1), text, font=font, fill=shadowcolor)\n",
    "  draw.text((x, y+1), text, font=font, fill=shadowcolor)\n",
    "\n",
    "  # thicker border\n",
    "  draw.text((x-1, y-1), text, font=font, fill=shadowcolor)\n",
    "  draw.text((x+1, y-1), text, font=font, fill=shadowcolor)\n",
    "  draw.text((x-1, y+1), text, font=font, fill=shadowcolor)\n",
    "  draw.text((x+1, y+1), text, font=font, fill=shadowcolor)\n",
    "\n",
    "  draw.text((x, y), text, font=font, fill=fillcolor)\n",
    "\n",
    "  img.save(img_filename)"
   ]
  },
  {
   "cell_type": "code",
   "execution_count": 244,
   "metadata": {},
   "outputs": [],
   "source": [
    "#todas as imagens sao submetidas ao treino a mesma qtd de iteracoes, ou seja, o num_it, logo, o algoritmo vai ver a mesma\n",
    "#imagens NUM_IT vezes, então, ele vai ser treinado e testado com o mesmo dataset, logo, ele vai saber o que é um gato\n",
    "#e o que nao e um gato\n",
    "\n",
    "#eventualmente ele vai decorar pq ta sempre passando os mesmos pixels\n",
    "\n",
    "#o metodo de pixels pra esssa tecnica aprende, pq ele decora as imagens, ou seja, cada pixel de cada imagem, pq ele ve \n",
    "# a msm imagems NUM_ITvezes,(vetorzao)\n",
    "\n",
    "#overfit, ajusto meu modelo para os dados de treinamento; logo, ele so vai conseguir identificar esses dados que ele viu\n",
    "\n",
    "#normalizacao dos valores ficam entre 0 e 1 por causa da sigmoide, os valores variam entre 0 e 1; logo, nao faria sentido\n",
    "#eu normalizar os dados e eles nao ficarem nessa escala, por isso, se atentar a isso!\n",
    "def logistic_regression(NUM_IT, alpha, m, X, Y, theta):\n",
    "    J = np.zeros(NUM_IT)\n",
    "    acc = np.zeros(NUM_IT)    \n",
    "    for i in range(NUM_IT):\n",
    "        z = np.dot(X,theta)\n",
    "        H_theta = np.divide(1,1+np.exp(-z)) #nessa parte, a gente submete ele a teste depois de treinado.\n",
    "        E = H_theta - Y\n",
    "        J[i] = (1/m)*np.sum(-Y*np.log(H_theta) - (1-Y)*(np.log(1-H_theta)))\n",
    "        theta = theta - (alpha*(np.dot(X.T,E))) \n",
    "        acc[i] = np.sum((H_theta >= 0.5) == Y)/m\n",
    "    return J, H_theta, acc"
   ]
  },
  {
   "cell_type": "code",
   "execution_count": 245,
   "metadata": {},
   "outputs": [],
   "source": [
    "dir_cat = '../inputs/data/train/cat/*.png'\n",
    "dir_noncat = '../inputs/data/train/noncat/*.png'"
   ]
  },
  {
   "cell_type": "markdown",
   "metadata": {},
   "source": [
    "Temos que a regressão logística serve para classificar uma determinada classe, logo, para cada gato adicionado nos dados de treino, vamos adicionar um valor 1 aos dados de teste, pois isso significa que é um gato(true), e para cada não-gato adicionado aos dados de treino, vamos adicionar um 0 nos dados de teste, pois significa que não é um gato."
   ]
  },
  {
   "cell_type": "markdown",
   "metadata": {},
   "source": [
    "**Normalização**\n",
    "\n",
    "https://stats.stackexchange.com/questions/189652/is-it-a-good-practice-to-always-scale-normalize-data-for-machine-learning\n",
    "\n",
    "https://medium.com/konvergen/an-introduction-to-adagrad-f130ae871827"
   ]
  },
  {
   "cell_type": "code",
   "execution_count": 195,
   "metadata": {},
   "outputs": [],
   "source": [
    "X = [] #dados de treino\n",
    "Y = [] #dados de teste\n",
    "for cat in glob.glob(dir_cat):\n",
    "    img = np.asarray(Image.open(cat))\n",
    "    img = np.reshape(img, -1)\n",
    "    X.append(img)\n",
    "    Y.append(1)\n",
    "    \n",
    "#-1 multiplica pelo grid(x1,x2,x3) da imagem, \"desempacota\" e multiplica - 64x64x3 = 12288\n",
    "for noncat in glob.glob(dir_noncat):\n",
    "    img = np.asarray(Image.open(noncat))\n",
    "    img = np.reshape(img, -1)\n",
    "    X.append(img)\n",
    "    Y.append(0) "
   ]
  },
  {
   "cell_type": "code",
   "execution_count": 196,
   "metadata": {},
   "outputs": [],
   "source": [
    "X = np.asarray(X)\n",
    "Y = np.asarray(Y)"
   ]
  },
  {
   "cell_type": "markdown",
   "metadata": {},
   "source": [
    "X[:,0] = r\n",
    "\n",
    "X[:,1] = g\n",
    "\n",
    "X[:,2] = b\n",
    "\n",
    "X[:,3] = r ..."
   ]
  },
  {
   "cell_type": "code",
   "execution_count": 197,
   "metadata": {},
   "outputs": [
    {
     "data": {
      "text/plain": [
       "array([  5,  11,  65,   9, 226,   5, 143,  37,  17,  26, 210,   2,   2,\n",
       "       169, 133,  21,  10,  28,   2,   1,  75, 179,  63,  26, 208,  47,\n",
       "       144, 226, 173, 122,  48,  96,  23, 107,   2, 170,  78,   1, 143,\n",
       "       123, 203, 105, 255, 181,  99, 133, 248,  43,  58,  74,  60,  25,\n",
       "       126, 179, 129,  62,  31,  29, 255, 209, 182,  68, 169,  51,   9,\n",
       "       175,   7,  54, 116,  31,  33,   3,  53, 152, 219, 119, 168,  79,\n",
       "        94, 221,  23, 173,  73,  49,  71,   2, 126, 111,  23, 255, 190,\n",
       "         6,   2,   5,  36,  21,  66, 202,  71, 201, 103,  24,   6,  80,\n",
       "        39,  48, 223, 130, 183,  14, 254,  61,  27,  88,  26, 229,  28,\n",
       "        63,  39,  41,   2,   5,  60, 108,  15,   2, 255, 153,  13,  13,\n",
       "        50,  23,   0, 254,   4, 143,  35,  45,  10, 106,  13,  24,  45,\n",
       "         4,  13, 217, 139,  13,   0,  82,  27,  37,  34, 102, 233,   2,\n",
       "        39,   9,  78,  34, 171,  90,  56,  69, 238, 202,  39,  11, 183,\n",
       "       185, 171,   8, 204, 238,  23,  38,  44,  50, 254,  54,  42, 115,\n",
       "       255,  70, 110,  17,  24,  10, 153, 236,   0,  20, 148,  29,  53,\n",
       "       165,  45,  25, 114, 186,  83,   1,  22,   2, 241,   4,  58, 207,\n",
       "       105], dtype=uint8)"
      ]
     },
     "execution_count": 197,
     "metadata": {},
     "output_type": "execute_result"
    }
   ],
   "source": [
    "X[:,2]"
   ]
  },
  {
   "cell_type": "markdown",
   "metadata": {},
   "source": [
    "Normalizando os dados"
   ]
  },
  {
   "cell_type": "code",
   "execution_count": 198,
   "metadata": {},
   "outputs": [],
   "source": [
    "X = X/255"
   ]
  },
  {
   "cell_type": "code",
   "execution_count": 199,
   "metadata": {},
   "outputs": [
    {
     "data": {
      "text/plain": [
       "(209, 12288)"
      ]
     },
     "execution_count": 199,
     "metadata": {},
     "output_type": "execute_result"
    }
   ],
   "source": [
    "X.shape"
   ]
  },
  {
   "cell_type": "code",
   "execution_count": 200,
   "metadata": {},
   "outputs": [],
   "source": [
    "X = np.insert(X, obj=0, values=1, axis=1)"
   ]
  },
  {
   "cell_type": "code",
   "execution_count": 201,
   "metadata": {},
   "outputs": [],
   "source": [
    "Y = np.expand_dims(Y, axis=1)"
   ]
  },
  {
   "cell_type": "code",
   "execution_count": 202,
   "metadata": {},
   "outputs": [
    {
     "data": {
      "text/plain": [
       "(209, 12289)"
      ]
     },
     "execution_count": 202,
     "metadata": {},
     "output_type": "execute_result"
    }
   ],
   "source": [
    "X.shape"
   ]
  },
  {
   "cell_type": "code",
   "execution_count": 203,
   "metadata": {},
   "outputs": [
    {
     "data": {
      "text/plain": [
       "(209, 1)"
      ]
     },
     "execution_count": 203,
     "metadata": {},
     "output_type": "execute_result"
    }
   ],
   "source": [
    "Y.shape"
   ]
  },
  {
   "cell_type": "code",
   "execution_count": 204,
   "metadata": {},
   "outputs": [],
   "source": [
    "theta = np.zeros((X.shape[1],1))"
   ]
  },
  {
   "cell_type": "code",
   "execution_count": 205,
   "metadata": {},
   "outputs": [
    {
     "data": {
      "text/plain": [
       "(12289, 1)"
      ]
     },
     "execution_count": 205,
     "metadata": {},
     "output_type": "execute_result"
    }
   ],
   "source": [
    "theta.shape"
   ]
  },
  {
   "cell_type": "markdown",
   "metadata": {},
   "source": [
    "Se obter erros ou warnings, se atente a este e diminua o valor do alpha!"
   ]
  },
  {
   "cell_type": "code",
   "execution_count": 209,
   "metadata": {},
   "outputs": [
    {
     "data": {
      "text/plain": [
       "Text(0, 0.5, 'J($\\\\theta$)')"
      ]
     },
     "execution_count": 209,
     "metadata": {},
     "output_type": "execute_result"
    },
    {
     "data": {
      "image/png": "[encoded data removed]",
      "text/plain": [
       "<Figure size 720x504 with 1 Axes>"
      ]
     },
     "metadata": {
      "needs_background": "light"
     },
     "output_type": "display_data"
    }
   ],
   "source": [
    "theta = np.zeros((X.shape[1],1))\n",
    "# alphas=[,0.000001]\n",
    "\n",
    "J, H_theta, acc = logistic_regression(2000, 0.0001, X.shape[0], X, Y, theta)\n",
    "\n",
    "#Valores testados 0.0001(comportamento estranho), 0.00001, \n",
    "plt.plot(J, label=fr\"$\\alpha = {0.0001}$\")\n",
    "plt.legend(loc='center left', bbox_to_anchor=(1.0, 0.5))\n",
    "plt.xlabel('Iterações')\n",
    "plt.ylabel(r'J($\\theta$)')"
   ]
  },
  {
   "cell_type": "code",
   "execution_count": 207,
   "metadata": {},
   "outputs": [
    {
     "data": {
      "text/plain": [
       "Text(0, 0.5, 'Acurácia')"
      ]
     },
     "execution_count": 207,
     "metadata": {},
     "output_type": "execute_result"
    },
    {
     "data": {
      "image/png": "[encoded data removed]",
      "text/plain": [
       "<Figure size 720x504 with 1 Axes>"
      ]
     },
     "metadata": {
      "needs_background": "light"
     },
     "output_type": "display_data"
    }
   ],
   "source": [
    "plt.plot(acc, label=\"Acurácia\")\n",
    "plt.legend(loc='center left', bbox_to_anchor=(1.0, 0.5))\n",
    "plt.xlabel('Iterações')\n",
    "plt.ylabel('Acurácia')"
   ]
  },
  {
   "cell_type": "code",
   "execution_count": 166,
   "metadata": {},
   "outputs": [
    {
     "data": {
      "text/plain": [
       "209"
      ]
     },
     "execution_count": 166,
     "metadata": {},
     "output_type": "execute_result"
    }
   ],
   "source": [
    "len(H_theta)"
   ]
  },
  {
   "cell_type": "code",
   "execution_count": 167,
   "metadata": {},
   "outputs": [
    {
     "data": {
      "image/png": "[encoded data removed]",
      "text/plain": [
       "<Figure size 2160x576 with 1 Axes>"
      ]
     },
     "metadata": {
      "needs_background": "light"
     },
     "output_type": "display_data"
    }
   ],
   "source": [
    "plt.figure(figsize=(30,8))\n",
    "plt.plot(Y, label=\"Dados de Treino\")\n",
    "plt.plot(H_theta, label=\"Predições\")\n",
    "plt.plot([0.5]*len(H_theta), label=\"Limiar\")\n",
    "plt.yticks(np.arange(-0,1.2,0.1))\n",
    "plt.xticks(np.arange(209), list(map(lambda x: 'imagem'+str(x)+'.png', range(len(H_theta)))), rotation=90)\n",
    "plt.tick_params(axis='x', which='major', labelsize=5)\n",
    "plt.axis(xmin=-0.5, xmax=len(H_theta))\n",
    "# plt.tight_layout()\n",
    "plt.legend(loc='center left', bbox_to_anchor=(1.0, 0.5))\n",
    "plt.savefig('comparacao.pdf',bbox_inches='tight', transparent=True)\n",
    "# plt.xlabel('Instâncias')\n",
    "# plt.ylabel('Resultado')"
   ]
  },
  {
   "cell_type": "code",
   "execution_count": 169,
   "metadata": {},
   "outputs": [],
   "source": [
    "X = X*255"
   ]
  },
  {
   "cell_type": "code",
   "execution_count": 170,
   "metadata": {},
   "outputs": [
    {
     "data": {
      "text/plain": [
       "(209, 12289)"
      ]
     },
     "execution_count": 170,
     "metadata": {},
     "output_type": "execute_result"
    }
   ],
   "source": [
    "X.shape"
   ]
  },
  {
   "cell_type": "code",
   "execution_count": 171,
   "metadata": {},
   "outputs": [],
   "source": [
    "X = np.delete(X,obj=0,axis=1)"
   ]
  },
  {
   "cell_type": "code",
   "execution_count": 172,
   "metadata": {},
   "outputs": [
    {
     "data": {
      "text/plain": [
       "(209, 12288)"
      ]
     },
     "execution_count": 172,
     "metadata": {},
     "output_type": "execute_result"
    }
   ],
   "source": [
    "X.shape"
   ]
  },
  {
   "cell_type": "markdown",
   "metadata": {},
   "source": [
    "Tenho 209 linhas, onde cada linha é uma figura (64x64x3)"
   ]
  },
  {
   "cell_type": "code",
   "execution_count": 173,
   "metadata": {},
   "outputs": [
    {
     "data": {
      "text/plain": [
       "12288"
      ]
     },
     "execution_count": 173,
     "metadata": {},
     "output_type": "execute_result"
    }
   ],
   "source": [
    "len(X[0])"
   ]
  },
  {
   "cell_type": "markdown",
   "metadata": {},
   "source": [
    "Cada linha do H_Theta é a predição relacionada a uma imagem do dataset"
   ]
  },
  {
   "cell_type": "code",
   "execution_count": 174,
   "metadata": {},
   "outputs": [
    {
     "data": {
      "text/plain": [
       "0.9861314014816527"
      ]
     },
     "execution_count": 174,
     "metadata": {},
     "output_type": "execute_result"
    }
   ],
   "source": [
    "H_theta[2,0]"
   ]
  },
  {
   "cell_type": "code",
   "execution_count": 175,
   "metadata": {},
   "outputs": [],
   "source": [
    "for i in range(0, len(X)):\n",
    "    temp = np.uint8(np.reshape(X[i,:], (64,64,3)))\n",
    "    salva_imagem_com_predicao(temp, f\"../results/imagem_{i}.png\", H_theta[i,0])"
   ]
  },
  {
   "cell_type": "code",
   "execution_count": 191,
   "metadata": {},
   "outputs": [
    {
     "data": {
      "text/plain": [
       "(209, 12288)"
      ]
     },
     "execution_count": 191,
     "metadata": {},
     "output_type": "execute_result"
    }
   ],
   "source": [
    "X.shape"
   ]
  },
  {
   "cell_type": "markdown",
   "metadata": {},
   "source": [
    "Acuracia Final = acc[-1]"
   ]
  },
  {
   "cell_type": "code",
   "execution_count": 192,
   "metadata": {},
   "outputs": [
    {
     "data": {
      "text/plain": [
       "0.9952153110047847"
      ]
     },
     "execution_count": 192,
     "metadata": {},
     "output_type": "execute_result"
    }
   ],
   "source": [
    "np.sum(((H_theta >= 0.5) == Y))/X.shape[0]"
   ]
  },
  {
   "cell_type": "markdown",
   "metadata": {},
   "source": [
    "Isso quer dizer que ele vai acertar 99% das imagens, ou seja, ele vai errar 1% das imagens do **treino**"
   ]
  },
  {
   "cell_type": "code",
   "execution_count": null,
   "metadata": {},
   "outputs": [],
   "source": []
  }
 ],
 "metadata": {
  "kernelspec": {
   "display_name": "Python 3",
   "language": "python",
   "name": "python3"
  },
  "language_info": {
   "codemirror_mode": {
    "name": "ipython",
    "version": 3
   },
   "file_extension": ".py",
   "mimetype": "text/x-python",
   "name": "python",
   "nbconvert_exporter": "python",
   "pygments_lexer": "ipython3",
   "version": "3.6.8"
  }
 },
 "nbformat": 4,
 "nbformat_minor": 4
}
